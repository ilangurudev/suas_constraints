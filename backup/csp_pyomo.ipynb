{
 "cells": [
  {
   "cell_type": "code",
   "execution_count": 1,
   "metadata": {
    "collapsed": true
   },
   "outputs": [],
   "source": [
    "from pyomo.environ import *\n",
    "from pyomo.opt import SolverFactory"
   ]
  },
  {
   "cell_type": "code",
   "execution_count": 2,
   "metadata": {},
   "outputs": [
    {
     "name": "stdout",
     "output_type": "stream",
     "text": [
      "Number of missions: 20 and number of mission types:  7\n",
      "Number of pilots: 7\n",
      "Number of unique models: 9 and number of total models: 19\n"
     ]
    }
   ],
   "source": [
    "def parse_inputs(path):\n",
    "    models = []\n",
    "    mission_types = {}\n",
    "    pilots = {}\n",
    "    pilots_favorable = []\n",
    "    missions = {}\n",
    "    nuas = []\n",
    "    f = open(path, encoding=\"utf8\", errors='ignore')\n",
    "    inputs = f.readlines()\n",
    "    f.close()\n",
    "    for i in range(len(inputs)):\n",
    "        line = inputs[i]\n",
    "        if not line[0] == \"%\":\n",
    "            line = line.rstrip()\n",
    "            if line[0:3] == \"MT \":\n",
    "                line = line.replace(\"  \",\" \")\n",
    "                line = line.split(\" \")  \n",
    "                mission_type = line[1]\n",
    "                compat_string = list(line[2])\n",
    "                compat = [int(i) for i in compat_string]            \n",
    "                mission_types[mission_type] = compat\n",
    "            elif line[0:2] == \"P \":\n",
    "                line = line.replace(\"  \",\" \")\n",
    "                line = line.split(\" \")\n",
    "#                 print(line, line[3])\n",
    "                pilot = line[1]\n",
    "                compat_string = list(line[2])\n",
    "                compat = [int(i) for i in compat_string] \n",
    "                pilots[pilot] = compat\n",
    "                fav_string = list(line[3])\n",
    "                fav = [int(i) for i in fav_string]            \n",
    "                pilots_favorable.append(fav)\n",
    "            elif line[0:2] == \"M \":\n",
    "                line = line.replace(\"  \",\" \")\n",
    "                line = line.replace(\"M \", \"\")\n",
    "                line = line.replace(\"M\", \"\")\n",
    "                line = line.split(\" \")\n",
    "                mission_num = line[0]\n",
    "                mission_type = line[1][0]\n",
    "                compat = mission_types[mission_type]\n",
    "                missions[mission_num] = compat\n",
    "            elif \"NUAS\" in line:\n",
    "                line = line.replace(\"  \",\" \")\n",
    "                line = line.split(\" \")\n",
    "                l_nuas = list(line[1])\n",
    "                l_nuas = [int(i) for i in l_nuas]\n",
    "                for i in l_nuas:\n",
    "                    nuas.append(i)\n",
    "            else:   \n",
    "                models.append(line)\n",
    "#     print()\n",
    "    print(\"Number of missions:\", len(missions.keys()), \"and number of mission types: \", len(list(mission_types.keys())))\n",
    "    print(\"Number of pilots:\", len(pilots.keys()))\n",
    "    print(\"Number of unique models:\", len(models), \"and number of total models:\", sum(nuas))\n",
    "    return(models, pilots, pilots_favorable ,missions, nuas, mission_types)\n",
    "\n",
    "    \n",
    "models, pilots, pilots_favorable, missions, nuas, mission_types = parse_inputs(\"sample4.txt\")   "
   ]
  },
  {
   "cell_type": "code",
   "execution_count": 3,
   "metadata": {},
   "outputs": [
    {
     "name": "stdout",
     "output_type": "stream",
     "text": [
      "['AR200', 'Disco', 'Falcon', 'Mavic', 'M600', 'P4', 'PHK', 'ScanEagle', 'Solo']\n",
      "{'Merrick': [0, 1, 0, 1, 0, 1, 0, 0, 1], 'Adams': [1, 1, 1, 1, 1, 1, 1, 0, 1], 'Gingrich': [0, 0, 0, 1, 0, 1, 1, 0, 1], 'Major': [1, 0, 0, 0, 0, 0, 0, 1, 0], 'McCracken': [0, 1, 0, 1, 0, 1, 1, 0, 1], 'Griffin': [1, 0, 0, 0, 0, 1, 1, 0, 1], 'Murphy': [1, 0, 1, 1, 1, 1, 1, 0, 1]}\n",
      "{'1': [1, 0, 1, 1, 1, 1, 1, 1, 1], '2': [1, 0, 1, 1, 1, 1, 1, 1, 1], '3': [1, 0, 1, 1, 1, 1, 1, 1, 1], '4': [1, 0, 1, 1, 1, 1, 1, 1, 1], '5': [1, 0, 1, 1, 1, 1, 1, 1, 1], '6': [1, 0, 1, 1, 1, 1, 1, 1, 1], '7': [1, 0, 1, 1, 1, 1, 1, 1, 1], '8': [1, 0, 1, 1, 1, 1, 1, 0, 1], '9': [1, 0, 1, 1, 1, 1, 1, 0, 1], '10': [1, 0, 1, 1, 1, 1, 1, 0, 1], '11': [1, 0, 1, 1, 1, 1, 1, 0, 1], '12': [1, 0, 1, 1, 1, 1, 1, 0, 1], '13': [1, 0, 1, 1, 1, 1, 1, 0, 1], '14': [1, 0, 1, 1, 1, 1, 1, 0, 1], '15': [1, 0, 1, 1, 1, 1, 1, 0, 1], '16': [1, 0, 1, 1, 1, 1, 1, 0, 1], '17': [1, 0, 1, 1, 1, 1, 1, 0, 1], '18': [1, 0, 1, 1, 1, 1, 1, 0, 1], '19': [1, 1, 0, 1, 1, 1, 0, 0, 1], '20': [1, 1, 0, 1, 1, 1, 0, 0, 1]}\n",
      "[1, 1, 1, 5, 1, 2, 5, 1, 2]\n",
      "{'A': [1, 1, 0, 1, 1, 1, 0, 0, 1], 'B': [1, 0, 1, 1, 1, 1, 1, 0, 1], 'C': [1, 1, 0, 1, 1, 1, 1, 0, 1], 'D': [0, 1, 0, 1, 1, 1, 0, 0, 1], 'E': [1, 0, 1, 1, 1, 1, 1, 1, 1], 'F': [1, 1, 0, 1, 1, 1, 0, 0, 1], 'G': [0, 0, 0, 0, 0, 0, 0, 0, 0]}\n",
      "[[0, 0, 0, 1, 0, 0, 0, 0, 0], [0, 0, 0, 1, 0, 0, 0, 0, 0], [0, 0, 0, 1, 0, 0, 0, 0, 0], [1, 0, 0, 0, 0, 0, 0, 0, 0], [0, 0, 0, 0, 1, 0, 0, 0, 0], [1, 0, 0, 0, 1, 0, 0, 0], [0, 0, 0, 0, 1, 0, 0, 0, 0]]\n"
     ]
    }
   ],
   "source": [
    "print(models)\n",
    "print(pilots)\n",
    "print(missions)\n",
    "print(nuas)\n",
    "print(mission_types)\n",
    "print(pilots_favorable)"
   ]
  },
  {
   "cell_type": "code",
   "execution_count": 10,
   "metadata": {
    "collapsed": true
   },
   "outputs": [],
   "source": []
  },
  {
   "cell_type": "code",
   "execution_count": 6,
   "metadata": {},
   "outputs": [
    {
     "ename": "ValueError",
     "evalue": "Error executing summation(): The last argument value must be a variable or expression object if no 'index' option is specified",
     "output_type": "error",
     "traceback": [
      "\u001b[0;31m---------------------------------------------------------------------------\u001b[0m",
      "\u001b[0;31mValueError\u001b[0m                                Traceback (most recent call last)",
      "\u001b[0;32m<ipython-input-6-29a957c5016c>\u001b[0m in \u001b[0;36m<module>\u001b[0;34m()\u001b[0m\n\u001b[1;32m     72\u001b[0m \u001b[0;31m#                             sense = maximize )\u001b[0m\u001b[0;34m\u001b[0m\u001b[0;34m\u001b[0m\u001b[0m\n\u001b[1;32m     73\u001b[0m \u001b[0;34m\u001b[0m\u001b[0m\n\u001b[0;32m---> 74\u001b[0;31m model.objective = Objective(expr = summation(model.tm) + summation(pilots_favorable[p][m]*model.pm[p, m] for p in model.pilots for m in model.unique_models),\n\u001b[0m\u001b[1;32m     75\u001b[0m                             sense = maximize )\n\u001b[1;32m     76\u001b[0m \u001b[0;34m\u001b[0m\u001b[0m\n",
      "\u001b[0;32m~/anaconda3/lib/python3.6/site-packages/pyomo/core/base/util.py\u001b[0m in \u001b[0;36msummation\u001b[0;34m(*args, **kwds)\u001b[0m\n\u001b[1;32m     64\u001b[0m             \u001b[0miarg\u001b[0m\u001b[0;34m=\u001b[0m\u001b[0margs\u001b[0m\u001b[0;34m[\u001b[0m\u001b[0;34m-\u001b[0m\u001b[0;36m1\u001b[0m\u001b[0;34m]\u001b[0m\u001b[0;34m\u001b[0m\u001b[0m\n\u001b[1;32m     65\u001b[0m             \u001b[0;32mif\u001b[0m \u001b[0;32mnot\u001b[0m \u001b[0misinstance\u001b[0m\u001b[0;34m(\u001b[0m\u001b[0miarg\u001b[0m\u001b[0;34m,\u001b[0m\u001b[0mpyomo\u001b[0m\u001b[0;34m.\u001b[0m\u001b[0mcore\u001b[0m\u001b[0;34m.\u001b[0m\u001b[0mbase\u001b[0m\u001b[0;34m.\u001b[0m\u001b[0mvar\u001b[0m\u001b[0;34m.\u001b[0m\u001b[0mVar\u001b[0m\u001b[0;34m)\u001b[0m \u001b[0;32mand\u001b[0m \u001b[0;32mnot\u001b[0m \u001b[0misinstance\u001b[0m\u001b[0;34m(\u001b[0m\u001b[0miarg\u001b[0m\u001b[0;34m,\u001b[0m \u001b[0mpyomo\u001b[0m\u001b[0;34m.\u001b[0m\u001b[0mcore\u001b[0m\u001b[0;34m.\u001b[0m\u001b[0mbase\u001b[0m\u001b[0;34m.\u001b[0m\u001b[0mexpression\u001b[0m\u001b[0;34m.\u001b[0m\u001b[0mExpression\u001b[0m\u001b[0;34m)\u001b[0m\u001b[0;34m:\u001b[0m\u001b[0;34m\u001b[0m\u001b[0m\n\u001b[0;32m---> 66\u001b[0;31m                 \u001b[0;32mraise\u001b[0m \u001b[0mValueError\u001b[0m\u001b[0;34m(\u001b[0m\u001b[0;34m\"Error executing summation(): The last argument value must be a variable or expression object if no 'index' option is specified\"\u001b[0m\u001b[0;34m)\u001b[0m\u001b[0;34m\u001b[0m\u001b[0m\n\u001b[0m\u001b[1;32m     67\u001b[0m         \u001b[0;32melse\u001b[0m\u001b[0;34m:\u001b[0m\u001b[0;34m\u001b[0m\u001b[0m\n\u001b[1;32m     68\u001b[0m             \u001b[0miarg\u001b[0m\u001b[0;34m=\u001b[0m\u001b[0mdenom\u001b[0m\u001b[0;34m[\u001b[0m\u001b[0;34m-\u001b[0m\u001b[0;36m1\u001b[0m\u001b[0;34m]\u001b[0m\u001b[0;34m\u001b[0m\u001b[0m\n",
      "\u001b[0;31mValueError\u001b[0m: Error executing summation(): The last argument value must be a variable or expression object if no 'index' option is specified"
     ]
    }
   ],
   "source": [
    "model = ConcreteModel()\n",
    "\n",
    "# number of missions\n",
    "model.missions = range(len(missions.keys()))\n",
    "\n",
    "# number of pilots\n",
    "model.pilots = range(len(pilots.keys()))\n",
    "\n",
    "#number of unique models\n",
    "model.unique_models = range(len(models))\n",
    "\n",
    "\n",
    "model.pm = Var(model.pilots, model.unique_models, within = Binary)\n",
    "model.tm = Var(model.missions, model.unique_models, within = Binary)\n",
    "\n",
    "\n",
    "# add constraints\n",
    "\n",
    "# each uav model can be used in a maximum of 3 times as many missions as the number of pilots driving that model\n",
    "# and each uav model must be used in at least 1 time as many missions as the number of pilots driving that model\n",
    "\n",
    "\n",
    "model.model_mission = ConstraintList()\n",
    "for m in model.unique_models:\n",
    "    model.model_mission.add(sum(model.tm[t,m] for t in model.missions) <= 3*sum(model.pm[p,m] for p in model.pilots))\n",
    "    model.model_mission.add(sum(model.tm[t,m] for t in model.missions) >= sum(model.pm[p,m] for p in model.pilots))\n",
    "#     model.model_mission.add(3*sum(model.tm[p,m] for p in model.pilots) >= sum(model.tm[t,m] for t in model.missions))\n",
    "#     model.model_mission.add(sum(model.tm[p,m] for p in model.pilots) <= sum(model.tm[t,m] for t in model.missions))\n",
    "        \n",
    "\n",
    "\n",
    "#each pilot drives maximum 1 uav:\n",
    "model.pilot_single_uav = ConstraintList()\n",
    "for pilot in model.pilots:\n",
    "    model.pilot_single_uav.add(sum(model.pm[pilot,m] for m in model.unique_models) <= 1)\n",
    "\n",
    "\n",
    "#pilot model compatibility constraint\n",
    "model.pilot_model_compatibility = ConstraintList()\n",
    "pilot_keys = list(pilots.keys())\n",
    "for pilot in model.pilots:\n",
    "    compatible_models = pilots[pilot_keys[pilot]]\n",
    "    for m in model.unique_models:\n",
    "        compatibility = compatible_models[m]\n",
    "        model.pilot_model_compatibility.add(model.pm[pilot, m] <= compatibility)\n",
    "        \n",
    "    \n",
    "#Number of models constraint?\n",
    "model.num_models_constraint = ConstraintList()\n",
    "for m in model.unique_models:\n",
    "    num_available = nuas[m]\n",
    "    model.num_models_constraint.add(sum(model.pm[p, m] for p in model.pilots) <= num_available)\n",
    "    \n",
    "        \n",
    "# one mission has at the maximum one UAV \n",
    "#(preferably atleast 1 uav but that might cause infeasibility, so incorporated into objective)\n",
    "model.one_uav_per_mission = ConstraintList()\n",
    "for t in model.missions:\n",
    "    model.one_uav_per_mission.add(sum(model.tm[t, m] for m in model.unique_models) <= 1)\n",
    "\n",
    "\n",
    "#mission model compatibility constaint\n",
    "model.mission_model_compatibility = ConstraintList()\n",
    "mission_keys = list(missions.keys())\n",
    "for t in model.missions:\n",
    "    compatible_models = missions[mission_keys[t]]\n",
    "    for m in model.unique_models:\n",
    "        compatibility = compatible_models[m]\n",
    "        model.mission_model_compatibility.add(model.tm[t,m] <= compatibility)\n",
    "        \n",
    "# model.objective = Objective(expr = summation(model.tm) +  , \n",
    "#                             sense = maximize )\n",
    "\n",
    "model.objective = Objective(expr = summation(model.tm) + sum(pilots_favorable[p][m]*model.pm[p, m] for p in model.pilots for m in model.unique_models),\n",
    "                            sense = maximize )\n",
    "\n",
    "\n",
    "opt2 = SolverFactory(\"glpk\")\n",
    "results=opt2.solve(model)\n",
    "\n",
    "mission_keys = list(missions.keys())\n",
    "pilot_keys = list(pilots.keys())\n",
    "# solution_keys = list(solution.keys())\n",
    "for t in model.missions:\n",
    "    current_model = None\n",
    "    current_pilot = None\n",
    "    fav = None\n",
    "    for m in model.unique_models:\n",
    "        if model.tm[t , m].value == 1:\n",
    "            current_model = models[m]\n",
    "            for p in model.pilots:\n",
    "                if model.pm[p , m].value > 0 and model.pm[p , m].value <= 3:\n",
    "                    model.pm[p , m].value = model.pm[p , m].value + 1.0        \n",
    "                    current_pilot = pilot_keys[p]\n",
    "                    fav = \"True\" if pilots_favorable[p][m] > 0 and model.pm[p,m].value > 0 else \"False\"\n",
    "                    break\n",
    "    print(\"\\nM\"+mission_keys[t], current_model, current_pilot, fav)"
   ]
  },
  {
   "cell_type": "code",
   "execution_count": 11,
   "metadata": {},
   "outputs": [
    {
     "data": {
      "text/plain": [
       "[[0, 0, 0, 1, 0, 0, 0, 0, 0],\n",
       " [0, 0, 0, 1, 0, 0, 0, 0, 0],\n",
       " [0, 0, 0, 1, 0, 0, 0, 0, 0],\n",
       " [1, 0, 0, 0, 0, 0, 0, 0, 0],\n",
       " [0, 0, 0, 0, 1, 0, 0, 0, 0],\n",
       " [1, 0, 0, 0, 1, 0, 0, 0],\n",
       " [0, 0, 0, 0, 1, 0, 0, 0, 0]]"
      ]
     },
     "execution_count": 11,
     "metadata": {},
     "output_type": "execute_result"
    }
   ],
   "source": [
    "pilots_favorable"
   ]
  }
 ],
 "metadata": {
  "kernelspec": {
   "display_name": "Python 3",
   "language": "python",
   "name": "python3"
  },
  "language_info": {
   "codemirror_mode": {
    "name": "ipython",
    "version": 3
   },
   "file_extension": ".py",
   "mimetype": "text/x-python",
   "name": "python",
   "nbconvert_exporter": "python",
   "pygments_lexer": "ipython3",
   "version": "3.6.3"
  }
 },
 "nbformat": 4,
 "nbformat_minor": 2
}
