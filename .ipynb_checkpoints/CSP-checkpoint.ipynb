{
 "cells": [
  {
   "cell_type": "code",
   "execution_count": 157,
   "metadata": {
    "collapsed": true
   },
   "outputs": [],
   "source": [
    "from constraint import *\n",
    "import re as re"
   ]
  },
  {
   "cell_type": "code",
   "execution_count": null,
   "metadata": {
    "collapsed": true
   },
   "outputs": [],
   "source": []
  },
  {
   "cell_type": "code",
   "execution_count": 80,
   "metadata": {},
   "outputs": [],
   "source": [
    "models = []\n",
    "mission_types = {}\n",
    "pilots = {}\n",
    "missions = {}\n",
    "nuas = []\n",
    "\n",
    "def parse_inputs():\n",
    "    f = open('inputs.txt')\n",
    "    inputs = f.readlines()\n",
    "    f.close()\n",
    "    for i in range(len(inputs)):\n",
    "        line = inputs[i]\n",
    "        if not line[0] == \"%\":\n",
    "            line = line.rstrip()\n",
    "#             print(line)\n",
    "            if line[0:2] == \"MT\":\n",
    "                line = line.replace(\"  \",\" \")\n",
    "                line = line.split(\" \")  \n",
    "                mission_type = line[1]\n",
    "                compat_string = list(line[2])\n",
    "                compat = [int(i) for i in compat_string]            \n",
    "                mission_types[mission_type] = compat\n",
    "            elif line[0:2] == \"P \":\n",
    "                line = line.replace(\"  \",\" \")\n",
    "                line = line.split(\" \")\n",
    "                pilot = line[1]\n",
    "                compat_string = list(line[3])\n",
    "                compat = [int(i) for i in compat_string]            \n",
    "                pilots[pilot] = compat\n",
    "            elif line[0] == \"M\" and i > 14:\n",
    "                line = line.replace(\"  \",\" \")\n",
    "                line = line.replace(\"M \", \"\")\n",
    "                line = line.replace(\"M\", \"\")\n",
    "                line = line.split(\" \")\n",
    "                mission_num = line[0]\n",
    "                mission_type = line[1][0]\n",
    "                compat = mission_types[mission_type]\n",
    "                missions[mission_num] = compat\n",
    "            elif \"NUAS\" in line:\n",
    "                line = line.replace(\"  \",\" \")\n",
    "                line = line.split(\" \")\n",
    "                l_nuas = list(line[1])\n",
    "                l_nuas = [int(i) for i in l_nuas]\n",
    "                for i in l_nuas:\n",
    "                    nuas.append(i)\n",
    "            else:   \n",
    "                models.append(line)\n",
    "    print(\"Number of missions:\", len(missions.keys()))\n",
    "    print(\"Number of unique models:\", len(models))\n",
    "    "
   ]
  },
  {
   "cell_type": "code",
   "execution_count": 81,
   "metadata": {},
   "outputs": [
    {
     "name": "stdout",
     "output_type": "stream",
     "text": [
      "Number of missions: 20\n",
      "Number of unique models: 9\n"
     ]
    }
   ],
   "source": [
    "parse_inputs()\n",
    "\n",
    "# number of missions\n",
    "n_missions = len(missions.keys())\n",
    "\n",
    "# number of pilots\n",
    "n_pilots = len(pilots.keys())\n",
    "\n",
    "#number of unique models\n",
    "n_unique_models = len(models)"
   ]
  },
  {
   "cell_type": "code",
   "execution_count": 110,
   "metadata": {},
   "outputs": [
    {
     "data": {
      "text/plain": [
       "[1, 1, 1, 4, 1, 2, 5, 1, 1]"
      ]
     },
     "execution_count": 110,
     "metadata": {},
     "output_type": "execute_result"
    }
   ],
   "source": [
    "nuas"
   ]
  },
  {
   "cell_type": "code",
   "execution_count": 187,
   "metadata": {},
   "outputs": [],
   "source": [
    "problem = Problem()\n",
    "\n",
    "pilot_model_variables = []\n",
    "for model in range(n_unique_models):\n",
    "    for pilot in range(n_pilots):\n",
    "        var = \"p\"+str(pilot)+\"_m\"+str(model)+\"_\"\n",
    "        problem.addVariable(var, [0,1])\n",
    "        pilot_model_variables.append(var)\n",
    "\n",
    "mission_model_variables = []\n",
    "for type in range(n_missions):\n",
    "    for model in range(n_unique_models):\n",
    "        var = \"t\"+str(type)+\"_m\"+str(model)+\"_\"\n",
    "        problem.addVariable(var, [0,1])\n",
    "        mission_model_variables.append(var)\n"
   ]
  },
  {
   "cell_type": "code",
   "execution_count": 188,
   "metadata": {},
   "outputs": [],
   "source": [
    "# add constraints\n",
    "\n",
    "#each pilot drives only uav:\n",
    "for pilot in range(n_pilots):\n",
    "    current_pilot = \"p\"+str(pilot)+\"_\"\n",
    "    current_pilot_vars = [s for s in pilot_model_variables if current_pilot in s]\n",
    "    problem.addConstraint(MaxSumConstraint(1), current_pilot_vars)\n",
    "\n",
    "#pilot model compatibility constraint\n",
    "pilot_keys = list(pilots.keys())\n",
    "for pilot in range(n_pilots):\n",
    "    compatible_models = pilots[pilot_keys[pilot]]\n",
    "    for model in range(n_unique_models):\n",
    "        var = \"p\"+str(pilot)+\"_m\"+str(model)+\"_\"\n",
    "        compatibility = compatible_models[model]\n",
    "        problem.addConstraint(lambda x: x <= compatibility, [var])\n",
    "        \n",
    "    \n",
    "#Number of models constraint?\n",
    "for model in range(n_unique_models):\n",
    "    current_model = \"m\"+str(model)+\"_\"\n",
    "    current_model_vars = [s for s in pilot_model_variables if current_model in s]\n",
    "    num_available = nuas[model]\n",
    "    if len(current_model_vars) > 0:\n",
    "        problem.addConstraint(MaxSumConstraint(num_available), current_model_vars)\n",
    "        \n",
    "# one mission one UAV\n",
    "for type in range(n_missions):\n",
    "    current_mission = \"t\"+str(type)+\"_\"\n",
    "    current_mission_vars = [s for s in mission_model_variables if current_mission in s]\n",
    "    problem.addConstraint(ExactSumConstraint(1), current_mission_vars)\n",
    "\n",
    "    \n",
    "\n",
    "#mission model compatibility constaint\n",
    "mission_keys = list(missions.keys())\n",
    "for type in range(n_missions):\n",
    "    compatible_models = missions[mission_keys[type]]\n",
    "    for model in range(n_unique_models):\n",
    "        var = \"t\"+str(type)+\"_m\"+str(model)+\"_\"\n",
    "        compatibility = compatible_models[model]\n",
    "        problem.addConstraint(lambda x: x <= compatibility, [var])\n",
    "        \n",
    "# each uav can be used 3 times max\n",
    "for model in range(n_unique_models):\n",
    "    var = \"m\"+str(model)+\"_\"\n",
    "    num_models = nuas[model]\n",
    "    current_model_missions = [s for s in mission_model_variables if var in s]\n",
    "    current_model_pilots = [s for s in pilot_model_variables if var in s]\n",
    "    problem.addConstraint(MaxSumConstraint(3), current_model_missions)\n"
   ]
  },
  {
   "cell_type": "code",
   "execution_count": 189,
   "metadata": {},
   "outputs": [],
   "source": [
    "solution = problem.getSolution()"
   ]
  },
  {
   "cell_type": "code",
   "execution_count": 203,
   "metadata": {},
   "outputs": [
    {
     "name": "stdout",
     "output_type": "stream",
     "text": [
      "[1, 1, 1, 4, 1, 2, 5, 1, 1]\n",
      "p0_m4_:0\n",
      "p1_m4_:0\n",
      "p2_m4_:0\n",
      "p3_m4_:0\n",
      "t0_m4_:0\n",
      "t10_m4_:0\n",
      "t11_m4_:0\n",
      "t12_m4_:0\n",
      "t13_m4_:0\n",
      "t14_m4_:0\n",
      "t15_m4_:0\n",
      "t16_m4_:0\n",
      "t17_m4_:0\n",
      "t18_m4_:0\n",
      "t19_m4_:0\n",
      "t1_m4_:0\n",
      "t2_m4_:1\n",
      "t3_m4_:1\n",
      "t4_m4_:1\n",
      "t5_m4_:0\n",
      "t6_m4_:0\n",
      "t7_m4_:0\n",
      "t8_m4_:0\n",
      "t9_m4_:0\n"
     ]
    }
   ],
   "source": [
    "print(nuas)\n",
    "sol_keys = list(solution.keys())\n",
    "keys = [key for key in sol_keys if \"m4_\" in key ]\n",
    "for key in keys:\n",
    "    print(key+\":\"+str(solution[key]))"
   ]
  },
  {
   "cell_type": "code",
   "execution_count": 205,
   "metadata": {},
   "outputs": [
    {
     "name": "stdout",
     "output_type": "stream",
     "text": [
      "Current Mission: 1\n",
      "Current Model: 0_AR200\n",
      "Current Pilot: Merrick\n",
      "\n",
      "\n",
      "Current Mission: 2\n",
      "Current Model: 3_Mavic\n",
      "Current Pilot: Major\n",
      "\n",
      "\n",
      "Current Mission: 3\n",
      "Current Model: 4_M600\n",
      "Current Pilot: None\n",
      "\n",
      "\n",
      "Current Mission: 4\n",
      "Current Model: 4_M600\n",
      "Current Pilot: None\n",
      "\n",
      "\n",
      "Current Mission: 5\n",
      "Current Model: 4_M600\n",
      "Current Pilot: None\n",
      "\n",
      "\n",
      "Current Mission: 6\n",
      "Current Model: 5_P4\n",
      "Current Pilot: None\n",
      "\n",
      "\n",
      "Current Mission: 7\n",
      "Current Model: 5_P4\n",
      "Current Pilot: None\n",
      "\n",
      "\n",
      "Current Mission: 8\n",
      "Current Model: 5_P4\n",
      "Current Pilot: None\n",
      "\n",
      "\n",
      "Current Mission: 9\n",
      "Current Model: 6_PHK\n",
      "Current Pilot: None\n",
      "\n",
      "\n",
      "Current Mission: 10\n",
      "Current Model: 6_PHK\n",
      "Current Pilot: None\n",
      "\n",
      "\n",
      "Current Mission: 11\n",
      "Current Model: 0_AR200\n",
      "Current Pilot: Merrick\n",
      "\n",
      "\n",
      "Current Mission: 12\n",
      "Current Model: 0_AR200\n",
      "Current Pilot: Merrick\n",
      "\n",
      "\n",
      "Current Mission: 13\n",
      "Current Model: 1_Disco\n",
      "Current Pilot: Adams\n",
      "\n",
      "\n",
      "Current Mission: 14\n",
      "Current Model: 1_Disco\n",
      "Current Pilot: Adams\n",
      "\n",
      "\n",
      "Current Mission: 15\n",
      "Current Model: 1_Disco\n",
      "Current Pilot: Adams\n",
      "\n",
      "\n",
      "Current Mission: 16\n",
      "Current Model: 2_Falcon\n",
      "Current Pilot: Gingrich\n",
      "\n",
      "\n",
      "Current Mission: 17\n",
      "Current Model: 2_Falcon\n",
      "Current Pilot: Gingrich\n",
      "\n",
      "\n",
      "Current Mission: 18\n",
      "Current Model: 2_Falcon\n",
      "Current Pilot: Gingrich\n",
      "\n",
      "\n",
      "Current Mission: 19\n",
      "Current Model: 3_Mavic\n",
      "Current Pilot: Major\n",
      "\n",
      "\n",
      "Current Mission: 20\n",
      "Current Model: 3_Mavic\n",
      "Current Pilot: Major\n",
      "\n",
      "\n"
     ]
    }
   ],
   "source": [
    "mission_keys = list(missions.keys())\n",
    "# solution_keys = list(solution.keys())\n",
    "for mission in range(n_missions):\n",
    "    current_mission = None\n",
    "    current_model = None\n",
    "    current_pilot = None\n",
    "    current_mission = mission_keys[mission]\n",
    "    \n",
    "    current_mission_model_variables = [i for i in mission_model_variables if \"t\"+str(mission)+\"_m\" in i]\n",
    "    for var in current_mission_model_variables:\n",
    "        if solution[var] == 1:\n",
    "            model_num = re.findall(r'\\d+', var)[1]\n",
    "            current_model = model_num + \"_\" + models[int(model_num)]\n",
    "            current_pilot_model_variables = [i for i in pilot_model_variables if \"m\"+model_num+\"_\" in i]\n",
    "#             print(current_pilot_model_variables)\n",
    "            for pilot_var in current_pilot_model_variables:\n",
    "#                 print(pilot_var, solution[pilot_var])\n",
    "                if solution[pilot_var] == 1:\n",
    "                    current_pilot_num = re.findall(r'\\d+', pilot_var)[0]\n",
    "                    current_pilot = list(pilots.keys())[int(current_pilot_num)]\n",
    "    print(\"Current Mission:\", current_mission)\n",
    "    print(\"Current Model:\", current_model)\n",
    "    print(\"Current Pilot:\", current_pilot)\n",
    "    print(\"\\n\")\n",
    "\n",
    "        "
   ]
  },
  {
   "cell_type": "code",
   "execution_count": 192,
   "metadata": {},
   "outputs": [
    {
     "data": {
      "text/plain": [
       "{'Adams': [1, 1, 0, 1, 1, 1, 1, 0, 1],\n",
       " 'Gingrich': [0, 0, 0, 1, 0, 0, 0, 0, 0],\n",
       " 'Major': [0, 0, 0, 0, 0, 0, 0, 1, 0],\n",
       " 'Merrick': [0, 0, 0, 1, 0, 0, 0, 0, 0]}"
      ]
     },
     "execution_count": 192,
     "metadata": {},
     "output_type": "execute_result"
    }
   ],
   "source": [
    "pilots"
   ]
  }
 ],
 "metadata": {
  "kernelspec": {
   "display_name": "Python 3",
   "language": "python",
   "name": "python3"
  },
  "language_info": {
   "codemirror_mode": {
    "name": "ipython",
    "version": 3
   },
   "file_extension": ".py",
   "mimetype": "text/x-python",
   "name": "python",
   "nbconvert_exporter": "python",
   "pygments_lexer": "ipython3",
   "version": "3.6.3"
  }
 },
 "nbformat": 4,
 "nbformat_minor": 2
}
