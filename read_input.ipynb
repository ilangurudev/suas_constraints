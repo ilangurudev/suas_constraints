{
 "cells": [
  {
   "cell_type": "code",
   "execution_count": 16,
   "metadata": {},
   "outputs": [
    {
     "data": {
      "text/plain": [
       "['%%% Vector of UAS model names (9) which will need for pretty printing\\n',\n",
       " 'AR200\\n',\n",
       " 'Disco\\n',\n",
       " 'Falcon\\n',\n",
       " 'Mavic\\n',\n",
       " 'M600\\n',\n",
       " 'P4\\n',\n",
       " 'PHK\\n',\n",
       " 'ScanEagle\\n',\n",
       " 'Solo\\n',\n",
       " '%%%%\\n',\n",
       " 'MT A 110111001  % SA\\n',\n",
       " 'MT B 101111101 % Inspection\\n',\n",
       " 'MT C 110111101 % ground search\\n',\n",
       " 'MT D 010111001  % water search\\n',\n",
       " 'MT E  101111111  % debris estimation\\n',\n",
       " 'MT F 110111001 % tactical SA\\n',\n",
       " 'MT G 000000000 % delivery\\n',\n",
       " '%%% Pilot name, UAS models can fly, favorite UAS model\\n',\n",
       " 'P Merrick  010101001  000100000\\n',\n",
       " 'P Adams   110111101  000100000\\n',\n",
       " 'P Gingrich 000101101  000100000\\n',\n",
       " 'P Major  000000010  000000010\\n',\n",
       " '%%% Number of UAS available by model\\n',\n",
       " 'NUAS 111412511  % 9 characters—each is the number of a UAS model, no more than 9 of any model\\n',\n",
       " '%%% Mission name and Mission Type\\n',\n",
       " 'M 1 E \\n',\n",
       " 'M 2 E\\n',\n",
       " 'M 3 E\\n',\n",
       " 'M 4 E\\n',\n",
       " 'M 5 B\\n',\n",
       " 'M 6 E\\n',\n",
       " 'M 7 B\\n',\n",
       " 'M 8 B\\n',\n",
       " 'M 9 E\\n',\n",
       " 'M10 E\\n',\n",
       " 'M 11 E\\n',\n",
       " 'M 12 E\\n',\n",
       " 'M 13 E\\n',\n",
       " 'M 14 B\\n',\n",
       " 'M 15 B\\n',\n",
       " 'M 16 B\\n',\n",
       " 'M 17 B\\n',\n",
       " 'M 18 F\\n',\n",
       " 'M 19 F\\n',\n",
       " 'M20 A']"
      ]
     },
     "execution_count": 16,
     "metadata": {},
     "output_type": "execute_result"
    }
   ],
   "source": [
    "import re\n",
    "f = open('inputs.txt')\n",
    "inputs = f.readlines()\n",
    "f.close()\n",
    "inputs"
   ]
  },
  {
   "cell_type": "code",
   "execution_count": null,
   "metadata": {
    "collapsed": true
   },
   "outputs": [],
   "source": []
  },
  {
   "cell_type": "code",
   "execution_count": 100,
   "metadata": {},
   "outputs": [],
   "source": [
    "models = []\n",
    "mission_types = {}\n",
    "pilots = {}\n",
    "missions = {}\n",
    "nuas = []"
   ]
  },
  {
   "cell_type": "code",
   "execution_count": 101,
   "metadata": {},
   "outputs": [
    {
     "name": "stdout",
     "output_type": "stream",
     "text": [
      "AR200\n",
      "Disco\n",
      "Falcon\n",
      "Mavic\n",
      "M600\n",
      "P4\n",
      "PHK\n",
      "ScanEagle\n",
      "Solo\n",
      "MT A 110111001  % SA\n",
      "MT B 101111101 % Inspection\n",
      "MT C 110111101 % ground search\n",
      "MT D 010111001  % water search\n",
      "MT E  101111111  % debris estimation\n",
      "MT F 110111001 % tactical SA\n",
      "MT G 000000000 % delivery\n",
      "P Merrick  010101001  000100000\n",
      "P Adams   110111101  000100000\n",
      "P Gingrich 000101101  000100000\n",
      "P Major  000000010  000000010\n",
      "NUAS 111412511  % 9 characters—each is the number of a UAS model, no more than 9 of any model\n",
      "M 1 E\n",
      "M 2 E\n",
      "M 3 E\n",
      "M 4 E\n",
      "M 5 B\n",
      "M 6 E\n",
      "M 7 B\n",
      "M 8 B\n",
      "M 9 E\n",
      "M10 E\n",
      "M 11 E\n",
      "M 12 E\n",
      "M 13 E\n",
      "M 14 B\n",
      "M 15 B\n",
      "M 16 B\n",
      "M 17 B\n",
      "M 18 F\n",
      "M 19 F\n",
      "M20 A\n"
     ]
    }
   ],
   "source": [
    "for i in range(len(inputs)):\n",
    "    line = inputs[i]\n",
    "    if not line[0] == \"%\":\n",
    "        line = line.rstrip()\n",
    "        print(line)\n",
    "        if line[0:2] == \"MT\":\n",
    "            \n",
    "            line = line.replace(\"  \",\" \")\n",
    "            line = line.split(\" \")  \n",
    "            mission_type = line[1]\n",
    "            compat_string = list(line[2])\n",
    "            compat = [int(i) for i in compat_string]            \n",
    "            mission_types[mission_type] = compat\n",
    "        elif line[0:2] == \"P \":\n",
    "            \n",
    "            line = line.replace(\"  \",\" \")\n",
    "            line = line.split(\" \")\n",
    "            pilot = line[1]\n",
    "            compat_string = list(line[3])\n",
    "            compat = [int(i) for i in compat_string]            \n",
    "            pilots[pilot] = compat\n",
    "        elif line[0] == \"M\" and i > 14:\n",
    "            line = line.replace(\"  \",\" \")\n",
    "            line = line.replace(\"M \", \"\")\n",
    "            line = line.replace(\"M\", \"\")\n",
    "            line = line.split(\" \")\n",
    "            mission_num = line[0]\n",
    "            mission_type = line[1][0]\n",
    "            compat = mission_types[mission_type]\n",
    "            missions[mission_num] = compat\n",
    "        elif line[0:2] == \"NU\":\n",
    "            line = line.split(\" \")\n",
    "            nuas = list(line[1])\n",
    "        else:   \n",
    "            models.append(line)\n"
   ]
  },
  {
   "cell_type": "code",
   "execution_count": 102,
   "metadata": {},
   "outputs": [
    {
     "name": "stdout",
     "output_type": "stream",
     "text": [
      "{'Merrick': [0, 0, 0, 1, 0, 0, 0, 0, 0], 'Adams': [1, 1, 0, 1, 1, 1, 1, 0, 1], 'Gingrich': [0, 0, 0, 1, 0, 0, 0, 0, 0], 'Major': [0, 0, 0, 0, 0, 0, 0, 1, 0]}\n",
      "['AR200', 'Disco', 'Falcon', 'Mavic', 'M600', 'P4', 'PHK', 'ScanEagle', 'Solo']\n",
      "{'A': [1, 1, 0, 1, 1, 1, 0, 0, 1], 'B': [1, 0, 1, 1, 1, 1, 1, 0, 1], 'C': [1, 1, 0, 1, 1, 1, 1, 0, 1], 'D': [0, 1, 0, 1, 1, 1, 0, 0, 1], 'E': [1, 0, 1, 1, 1, 1, 1, 1, 1], 'F': [1, 1, 0, 1, 1, 1, 0, 0, 1], 'G': [0, 0, 0, 0, 0, 0, 0, 0, 0]}\n",
      "{'1': [1, 0, 1, 1, 1, 1, 1, 1, 1], '2': [1, 0, 1, 1, 1, 1, 1, 1, 1], '3': [1, 0, 1, 1, 1, 1, 1, 1, 1], '4': [1, 0, 1, 1, 1, 1, 1, 1, 1], '5': [1, 0, 1, 1, 1, 1, 1, 0, 1], '6': [1, 0, 1, 1, 1, 1, 1, 1, 1], '7': [1, 0, 1, 1, 1, 1, 1, 0, 1], '8': [1, 0, 1, 1, 1, 1, 1, 0, 1], '9': [1, 0, 1, 1, 1, 1, 1, 1, 1], '10': [1, 0, 1, 1, 1, 1, 1, 1, 1], '11': [1, 0, 1, 1, 1, 1, 1, 1, 1], '12': [1, 0, 1, 1, 1, 1, 1, 1, 1], '13': [1, 0, 1, 1, 1, 1, 1, 1, 1], '14': [1, 0, 1, 1, 1, 1, 1, 0, 1], '15': [1, 0, 1, 1, 1, 1, 1, 0, 1], '16': [1, 0, 1, 1, 1, 1, 1, 0, 1], '17': [1, 0, 1, 1, 1, 1, 1, 0, 1], '18': [1, 1, 0, 1, 1, 1, 0, 0, 1], '19': [1, 1, 0, 1, 1, 1, 0, 0, 1], '20': [1, 1, 0, 1, 1, 1, 0, 0, 1]}\n"
     ]
    }
   ],
   "source": [
    "print(pilots)\n",
    "print(models)\n",
    "print(mission_types)\n",
    "print(missions)"
   ]
  }
 ],
 "metadata": {
  "kernelspec": {
   "display_name": "Python 3",
   "language": "python",
   "name": "python3"
  },
  "language_info": {
   "codemirror_mode": {
    "name": "ipython",
    "version": 3
   },
   "file_extension": ".py",
   "mimetype": "text/x-python",
   "name": "python",
   "nbconvert_exporter": "python",
   "pygments_lexer": "ipython3",
   "version": "3.6.3"
  }
 },
 "nbformat": 4,
 "nbformat_minor": 2
}
