{
 "cells": [
  {
   "cell_type": "code",
   "execution_count": 1,
   "metadata": {
    "collapsed": true
   },
   "outputs": [],
   "source": [
    "from constraint import *"
   ]
  },
  {
   "cell_type": "code",
   "execution_count": 8,
   "metadata": {
    "collapsed": true
   },
   "outputs": [],
   "source": [
    "problem = Problem()\n",
    "n_pilots = 3\n",
    "n_models = 4\n",
    "\n",
    "# for i in range(n_pilots):\n",
    "#     for j in range(n_models):\n",
    "#         problem.addVariable(\"pm\" + str(i + 1) + str(j + 1), [0 , 1])\n",
    "\n",
    "# for i in range(n_pilots):\n",
    "#     for j in range(n_models):\n",
    "#         problem.addVariable(\"pm\" + str(i + 1) + str(j + 1), [0 , 1])\n"
   ]
  },
  {
   "cell_type": "code",
   "execution_count": 11,
   "metadata": {},
   "outputs": [],
   "source": [
    "problem = Problem()\n",
    "\n",
    "problem.addVariable(\"a\", [0,1,2])\n",
    "problem.addVariable(\"b\", [1,2])\n",
    "problem.addVariable(\"c\", [1,2])\n",
    "# problem.addConstraint(lambda a,b: a < b, [\"a\", \"b\"])\n",
    "problem.addConstraint(ExactSumConstraint(2), [\"a\", \"b\"])"
   ]
  },
  {
   "cell_type": "code",
   "execution_count": 12,
   "metadata": {},
   "outputs": [
    {
     "data": {
      "text/plain": [
       "[{'a': 0, 'b': 2, 'c': 2},\n",
       " {'a': 0, 'b': 2, 'c': 1},\n",
       " {'a': 1, 'b': 1, 'c': 2},\n",
       " {'a': 1, 'b': 1, 'c': 1}]"
      ]
     },
     "execution_count": 12,
     "metadata": {},
     "output_type": "execute_result"
    }
   ],
   "source": [
    "problem.getSolutions()"
   ]
  },
  {
   "cell_type": "code",
   "execution_count": 15,
   "metadata": {},
   "outputs": [
    {
     "data": {
      "text/plain": [
       "['%%% Vector of UAS model names (9) which will need for pretty printing\\n',\n",
       " 'AR200\\n',\n",
       " 'Disco\\n',\n",
       " 'Falcon\\n',\n",
       " 'Mavic\\n',\n",
       " 'M600\\n',\n",
       " 'P4\\n',\n",
       " 'PHK\\n',\n",
       " 'ScanEagle\\n',\n",
       " 'Solo\\n',\n",
       " '%%%%\\n',\n",
       " 'MT A 110111001  % SA\\n',\n",
       " 'MT B 101111101 % Inspection\\n',\n",
       " 'MT C 110111101 % ground search\\n',\n",
       " 'MT D 010111001  % water search\\n',\n",
       " 'MT E  101111111  % debris estimation\\n',\n",
       " 'MT F 110111001 % tactical SA\\n',\n",
       " 'MT G 000000000 % delivery\\n',\n",
       " '%%% Pilot name, UAS models can fly, favorite UAS model\\n',\n",
       " 'P Merrick  010101001  000100000\\n',\n",
       " 'P Adams   110111101  000100000\\n',\n",
       " 'P Gingrich 000101101  000100000\\n',\n",
       " 'P Major  000000010  000000010\\n',\n",
       " '%%% Number of UAS available by model\\n',\n",
       " 'NUAS 111412511  % 9 characters—each is the number of a UAS model, no more than 9 of any model\\n',\n",
       " '%%% Mission name and Mission Type\\n',\n",
       " 'M 1 E \\n',\n",
       " 'M 2 E\\n',\n",
       " 'M 3 E\\n',\n",
       " 'M 4 E\\n',\n",
       " 'M 5 B\\n',\n",
       " 'M 6 E\\n',\n",
       " 'M 7 B\\n',\n",
       " 'M 8 B\\n',\n",
       " 'M 9 E\\n',\n",
       " 'M10 E\\n',\n",
       " 'M 11 E\\n',\n",
       " 'M 12 E\\n',\n",
       " 'M 13 E\\n',\n",
       " 'M 14 B\\n',\n",
       " 'M 15 B\\n',\n",
       " 'M 16 B\\n',\n",
       " 'M 17 B\\n',\n",
       " 'M 18 F\\n',\n",
       " 'M 19 F\\n',\n",
       " 'M20 A']"
      ]
     },
     "execution_count": 15,
     "metadata": {},
     "output_type": "execute_result"
    }
   ],
   "source": [
    "f = open('inputs.txt')\n",
    "inputs = f.readlines()\n",
    "f.close()\n",
    "inputs"
   ]
  },
  {
   "cell_type": "code",
   "execution_count": 16,
   "metadata": {},
   "outputs": [
    {
     "data": {
      "text/plain": [
       "False"
      ]
     },
     "execution_count": 16,
     "metadata": {},
     "output_type": "execute_result"
    }
   ],
   "source": [
    "\"cat$\" in \"cat\""
   ]
  }
 ],
 "metadata": {
  "kernelspec": {
   "display_name": "Python 3",
   "language": "python",
   "name": "python3"
  },
  "language_info": {
   "codemirror_mode": {
    "name": "ipython",
    "version": 3
   },
   "file_extension": ".py",
   "mimetype": "text/x-python",
   "name": "python",
   "nbconvert_exporter": "python",
   "pygments_lexer": "ipython3",
   "version": "3.6.3"
  }
 },
 "nbformat": 4,
 "nbformat_minor": 2
}
